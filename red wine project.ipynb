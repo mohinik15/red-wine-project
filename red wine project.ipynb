{
 "cells": [
  {
   "cell_type": "code",
   "execution_count": null,
   "id": "bfa6ad6d",
   "metadata": {},
   "outputs": [],
   "source": [
    "#red wine quality analysis"
   ]
  },
  {
   "cell_type": "code",
   "execution_count": null,
   "id": "dc3eb2c4",
   "metadata": {},
   "outputs": [],
   "source": [
    "import numpy as np\n",
    "import pandas as pd\n",
    "import matplotlib.pyplot as plt\n",
    "import seaborn as sns"
   ]
  },
  {
   "cell_type": "code",
   "execution_count": null,
   "id": "0e1aa2ca",
   "metadata": {},
   "outputs": [],
   "source": [
    "data = pd.read_csv(\" ../input/wineQualityReds.csv\")\n",
    "data.head()"
   ]
  },
  {
   "cell_type": "code",
   "execution_count": null,
   "id": "47409b44",
   "metadata": {},
   "outputs": [],
   "source": [
    "data.info()"
   ]
  },
  {
   "cell_type": "code",
   "execution_count": null,
   "id": "532ed9a4",
   "metadata": {},
   "outputs": [],
   "source": [
    "\"\"\"Dropping the first column containing the index values which is of no use for us\"\"\"\n",
    "data = data.iloc[:,1:]\n",
    "print(data.head())"
   ]
  },
  {
   "cell_type": "code",
   "execution_count": null,
   "id": "d6ef045b",
   "metadata": {},
   "outputs": [],
   "source": [
    "data.describe()"
   ]
  },
  {
   "cell_type": "code",
   "execution_count": null,
   "id": "d96e1875",
   "metadata": {},
   "outputs": [],
   "source": [
    "data.corr()['quality']"
   ]
  },
  {
   "cell_type": "code",
   "execution_count": null,
   "id": "728d4687",
   "metadata": {},
   "outputs": [],
   "source": [
    "plt.figure(figsize=(10 , 10))\n",
    "sns.heatmap(data.corr(),annot=True,linewidth=0.5,center=0,cmap='coolwarm')\n",
    "plt.show()"
   ]
  },
  {
   "cell_type": "code",
   "execution_count": null,
   "id": "6430a8cd",
   "metadata": {},
   "outputs": [],
   "source": [
    "plt.hist(data.quality,bins=6,alpha=0.5,histtype='bar' ,ec='black')\n",
    "plt.title('Distribution of the Quality')\n",
    "plt.xlabel('Quality')\n",
    "plt.ylabel('Count')\n",
    "plt.show()"
   ]
  },
  {
   "cell_type": "code",
   "execution_count": null,
   "id": "b72a693f",
   "metadata": {},
   "outputs": [],
   "source": [
    "plt.figure(figsize=(8,5))\n",
    "sns.barplpot(data['quality'],data['pH'],palette=\"GnBu_d\")\n",
    "plt.show()"
   ]
  },
  {
   "cell_type": "code",
   "execution_count": null,
   "id": "f8891213",
   "metadata": {},
   "outputs": [],
   "source": [
    "sns.boxplot(x='quality',y='pH',data=data,palette='GnBu_d')\n",
    "plt.title(\"Boxplot of Quality and pH\")\n",
    "plt.show()"
   ]
  },
  {
   "cell_type": "code",
   "execution_count": null,
   "id": "4a39eda8",
   "metadata": {},
   "outputs": [],
   "source": [
    "ax = sns.boxplot(x='quality',y='alcohol',data=data,palette='GnBu_d')\n",
    "plt.title(\"Boxplot of Quality and Alcohol\")\n",
    "plt.show()"
   ]
  },
  {
   "cell_type": "code",
   "execution_count": null,
   "id": "986db558",
   "metadata": {},
   "outputs": [],
   "source": [
    "sns.boxplot(x=\"quality\",y=\"residual sugar\",data=data,palette=\"GnBu_d\")\n",
    "plt.title(\"Boxplot of Quality and residual sugar\")\n",
    "plt.show()"
   ]
  },
  {
   "cell_type": "code",
   "execution_count": null,
   "id": "74083b34",
   "metadata": {},
   "outputs": [],
   "source": [
    "sns.boxplot(x=\"quality\",y=\"density\",data=data,palette=\"GnBu_d\")\n",
    "plt.title(\"Boxplot of Quality and Density\")\n",
    "plt.show()"
   ]
  },
  {
   "cell_type": "code",
   "execution_count": null,
   "id": "d6ae98ae",
   "metadata": {},
   "outputs": [],
   "source": [
    "sns.boxplot(x=\"quality\",y=\"sulphates\",datdata,palette=\"GnBu_d\")\n",
    "plt.title(\"Boxplot of Quality and Sulphates\")\n",
    "plt.show()"
   ]
  },
  {
   "cell_type": "code",
   "execution_count": null,
   "id": "6c7324b2",
   "metadata": {},
   "outputs": [],
   "source": [
    "sns.boxplot(x=\"quality\",y=\"chlorides\",data=data,palette=\"GnBu_d\")\n",
    "plt.title(\"Boxplot of Quality and chlorides\")\n",
    "plt.show()"
   ]
  },
  {
   "cell_type": "code",
   "execution_count": null,
   "id": "119d3e25",
   "metadata": {},
   "outputs": [],
   "source": [
    "sns.boxplot(x=\"quality\",y=\"citric.acid\",data=data,palette=\"coolwarm\")\n",
    "plt.title(\"Boxplot of Quality and citric Acid\")\n",
    "plt.show()"
   ]
  },
  {
   "cell_type": "code",
   "execution_count": null,
   "id": "7e36355f",
   "metadata": {},
   "outputs": [],
   "source": [
    "sns.boxplot(x=\"quality\",y=\"volatile.acidity\",data=data,palette=\"coolwarm\")\n",
    "plt.title(\"Boxplot of Quality and Volatile Acidity\")\n",
    "plt.show()"
   ]
  },
  {
   "cell_type": "code",
   "execution_count": null,
   "id": "1fb7486e",
   "metadata": {},
   "outputs": [],
   "source": [
    "sns.boxplot(x=\"quality\",y=\"fixed.acidity\",data=data,palette=\"coolwarm\")\n",
    "plt.title(\"Boxplot of Quality and Fixed Acidity\")\n",
    "plt.show()"
   ]
  },
  {
   "cell_type": "code",
   "execution_count": null,
   "id": "dc1b16b1",
   "metadata": {},
   "outputs": [],
   "source": [
    "from sklearn.model_selection import train_test_split\n",
    "from sklearn.preprocessing import StandardScaler\n",
    "from sklearn.linear_model import LogisticRegression\n",
    "from sklearn.metrics import confusion_matrix\n",
    "\n",
    "X = data.iloc[:,:11].values\n",
    "Y = data.iloc[:,-1].values\n",
    "\n",
    "#splitting the dataset into training and test set\n",
    "X_train,X_test,Y_train,Y_test = train_test_split(X,Y,test_size=0.25,random_state=0)\n",
    "\n",
    "#feature scaling\n",
    "sc = StandardScaler()\n",
    "X_train = sc.fit_transform(X_train)\n",
    "X_test = sc.fit_transform(X_test)\n",
    "\n",
    "#training using logistic regression\n",
    "cl = LogisticRegression()\n",
    "cl.fit(X_train,Y_train)\n",
    "\n",
    "#making confusion matrix\n",
    "cm = confusion_matrix(Y_test,cl.predict(X_test))\n",
    "print(cm)"
   ]
  },
  {
   "cell_type": "code",
   "execution_count": null,
   "id": "9e37a42c",
   "metadata": {},
   "outputs": [],
   "source": [
    "#applying SVM \n",
    "from sklearn.svm import SVC\n",
    "cl = SVC(kernel=\"rbf\")\n",
    "cl.fit(X_train,Y_train)\n",
    "\n",
    "cm = confusion_matrix(Y_test,cl.predict(X_test))\n",
    "print(cm)"
   ]
  },
  {
   "cell_type": "raw",
   "id": "1360865f",
   "metadata": {},
   "source": []
  },
  {
   "cell_type": "raw",
   "id": "8e4a4fa3",
   "metadata": {},
   "source": []
  },
  {
   "cell_type": "raw",
   "id": "253b2358",
   "metadata": {},
   "source": []
  },
  {
   "cell_type": "raw",
   "id": "9b8f13f5",
   "metadata": {},
   "source": []
  }
 ],
 "metadata": {
  "kernelspec": {
   "display_name": "Python 3 (ipykernel)",
   "language": "python",
   "name": "python3"
  },
  "language_info": {
   "codemirror_mode": {
    "name": "ipython",
    "version": 3
   },
   "file_extension": ".py",
   "mimetype": "text/x-python",
   "name": "python",
   "nbconvert_exporter": "python",
   "pygments_lexer": "ipython3",
   "version": "3.9.7"
  }
 },
 "nbformat": 4,
 "nbformat_minor": 5
}
